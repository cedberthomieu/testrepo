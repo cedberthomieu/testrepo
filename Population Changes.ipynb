{
 "cells": [
  {
   "cell_type": "markdown",
   "id": "1f35ff3f-5f6b-472b-9ec3-6b87490c528c",
   "metadata": {},
   "source": [
    "### Population Changes Since 1980\r\n",
    "\r\n",
    "The data shown below shows the decade-on-decade increases in the\r\n",
    "[world's population](https://www.worldometers.info/world-population/world-population-by-year/)\r\n",
    "since 1980."
   ]
  },
  {
   "cell_type": "code",
   "execution_count": null,
   "id": "a39001d2-012e-4bf6-a42c-1e5a80e6f4fc",
   "metadata": {},
   "outputs": [],
   "source": []
  },
  {
   "cell_type": "code",
   "execution_count": 1,
   "id": "048ca192-54ff-4286-ac4c-cef816257af3",
   "metadata": {},
   "outputs": [],
   "source": [
    "# decades = [1960, 1970, 1980, 1990, 2000, 2010, 2020]\n",
    "\n",
    "# World population (billions)\n",
    "# population = [3, 3.7, 4.4, 5.3, 6.1, 7.0, 7.8]\n",
    "\n",
    "decades = [1980, 1990, 2000, 2010, 2020]\n",
    "population = [4.4, 5.3, 6.1, 7.0, 7.8]"
   ]
  },
  {
   "cell_type": "code",
   "execution_count": 2,
   "id": "b0fe3dc5-8c37-463f-87f1-3aaa79ca65da",
   "metadata": {},
   "outputs": [],
   "source": [
    "def calculate_differences(data_set):\n",
    "    differences = [0]\n",
    "    for index in range(1, len(data_set)):\n",
    "        differences.append(round(data_set[index] - data_set[index - 1], 1))\n",
    "    return differences\n",
    "\n",
    "population_change = calculate_differences(population)"
   ]
  },
  {
   "cell_type": "code",
   "execution_count": 7,
   "id": "8d448163-3aa7-4660-a90d-54072fc3c72e",
   "metadata": {},
   "outputs": [
    {
     "name": "stdout",
     "output_type": "stream",
     "text": [
      "Requirement already satisfied: pandas in c:\\dev\\jupyterlab_project\\jl_venv\\lib\\site-packages (2.2.0)\n",
      "Requirement already satisfied: numpy<2,>=1.26.0 in c:\\dev\\jupyterlab_project\\jl_venv\\lib\\site-packages (from pandas) (1.26.4)\n",
      "Requirement already satisfied: python-dateutil>=2.8.2 in c:\\dev\\jupyterlab_project\\jl_venv\\lib\\site-packages (from pandas) (2.8.2)\n",
      "Requirement already satisfied: pytz>=2020.1 in c:\\dev\\jupyterlab_project\\jl_venv\\lib\\site-packages (from pandas) (2024.1)\n",
      "Requirement already satisfied: tzdata>=2022.7 in c:\\dev\\jupyterlab_project\\jl_venv\\lib\\site-packages (from pandas) (2024.1)\n",
      "Requirement already satisfied: six>=1.5 in c:\\dev\\jupyterlab_project\\jl_venv\\lib\\site-packages (from python-dateutil>=2.8.2->pandas) (1.16.0)\n",
      "Collecting pyarrow\n",
      "  Downloading pyarrow-15.0.0-cp312-cp312-win_amd64.whl.metadata (3.1 kB)\n",
      "Requirement already satisfied: numpy<2,>=1.16.6 in c:\\dev\\jupyterlab_project\\jl_venv\\lib\\site-packages (from pyarrow) (1.26.4)\n",
      "Downloading pyarrow-15.0.0-cp312-cp312-win_amd64.whl (25.3 MB)\n",
      "   ---------------------------------------- 0.0/25.3 MB ? eta -:--:--\n",
      "   ---------------------------------------- 0.0/25.3 MB 1.4 MB/s eta 0:00:19\n",
      "   - -------------------------------------- 0.8/25.3 MB 10.0 MB/s eta 0:00:03\n",
      "   --- ------------------------------------ 2.2/25.3 MB 17.4 MB/s eta 0:00:02\n",
      "   ----- ---------------------------------- 3.5/25.3 MB 20.5 MB/s eta 0:00:02\n",
      "   ------- -------------------------------- 4.9/25.3 MB 22.3 MB/s eta 0:00:01\n",
      "   --------- ------------------------------ 6.2/25.3 MB 23.5 MB/s eta 0:00:01\n",
      "   ------------ --------------------------- 7.6/25.3 MB 24.4 MB/s eta 0:00:01\n",
      "   -------------- ------------------------- 9.0/25.3 MB 25.0 MB/s eta 0:00:01\n",
      "   ---------------- ----------------------- 10.3/25.3 MB 28.4 MB/s eta 0:00:01\n",
      "   ------------------ --------------------- 11.7/25.3 MB 28.4 MB/s eta 0:00:01\n",
      "   -------------------- ------------------- 13.1/25.3 MB 29.7 MB/s eta 0:00:01\n",
      "   ---------------------- ----------------- 14.4/25.3 MB 29.7 MB/s eta 0:00:01\n",
      "   ------------------------- -------------- 15.9/25.3 MB 29.7 MB/s eta 0:00:01\n",
      "   --------------------------- ------------ 17.3/25.3 MB 31.1 MB/s eta 0:00:01\n",
      "   ----------------------------- ---------- 18.7/25.3 MB 31.2 MB/s eta 0:00:01\n",
      "   ------------------------------- -------- 20.1/25.3 MB 31.2 MB/s eta 0:00:01\n",
      "   ---------------------------------- ----- 21.5/25.3 MB 31.2 MB/s eta 0:00:01\n",
      "   ------------------------------------ --- 22.9/25.3 MB 31.2 MB/s eta 0:00:01\n",
      "   -------------------------------------- - 24.2/25.3 MB 31.2 MB/s eta 0:00:01\n",
      "   ---------------------------------------  25.3/25.3 MB 29.7 MB/s eta 0:00:01\n",
      "   ---------------------------------------  25.3/25.3 MB 29.7 MB/s eta 0:00:01\n",
      "   ---------------------------------------  25.3/25.3 MB 29.7 MB/s eta 0:00:01\n",
      "   ---------------------------------------- 25.3/25.3 MB 22.6 MB/s eta 0:00:00\n",
      "Installing collected packages: pyarrow\n",
      "Successfully installed pyarrow-15.0.0\n"
     ]
    }
   ],
   "source": [
    "!python -m pip install pandas\n",
    "!python -m pip install pyarrow"
   ]
  },
  {
   "cell_type": "code",
   "execution_count": 15,
   "id": "af94188f-08b5-4f79-a396-1445777615fc",
   "metadata": {},
   "outputs": [
    {
     "name": "stdout",
     "output_type": "stream",
     "text": [
      "   Decade  Population(Bn)  Change\n",
      "4    2020             7.8     0.8\n"
     ]
    }
   ],
   "source": [
    "import pandas as pd\n",
    "\n",
    "zipped = list(zip(decades, population, population_change))\n",
    "columns=[\"Decade\", \"Population(Bn)\", \"Change\"]\n",
    "population_df = pd.DataFrame(zipped, columns=columns)\n",
    "\n",
    "print(population_df.loc[[4]])"
   ]
  },
  {
   "cell_type": "code",
   "execution_count": null,
   "id": "d738fbcf-9c1c-4f8b-9894-ff668172a7fa",
   "metadata": {},
   "outputs": [],
   "source": []
  }
 ],
 "metadata": {
  "kernelspec": {
   "display_name": "Python 3 (ipykernel)",
   "language": "python",
   "name": "python3"
  },
  "language_info": {
   "codemirror_mode": {
    "name": "ipython",
    "version": 3
   },
   "file_extension": ".py",
   "mimetype": "text/x-python",
   "name": "python",
   "nbconvert_exporter": "python",
   "pygments_lexer": "ipython3",
   "version": "3.12.2"
  }
 },
 "nbformat": 4,
 "nbformat_minor": 5
}
